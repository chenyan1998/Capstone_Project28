{
 "metadata": {
  "language_info": {
   "codemirror_mode": {
    "name": "ipython",
    "version": 3
   },
   "file_extension": ".py",
   "mimetype": "text/x-python",
   "name": "python",
   "nbconvert_exporter": "python",
   "pygments_lexer": "ipython3",
   "version": "3.8.3"
  },
  "orig_nbformat": 2,
  "kernelspec": {
   "name": "python383jvsc74a57bd008464c28018f2bf9731c6c8c4adc673ebcaf0cff66ed7cc62ba821dfabda51f1",
   "display_name": "Python 3.8.3 64-bit ('base': conda)"
  },
  "metadata": {
   "interpreter": {
    "hash": "31f2aee4e71d21fbe5cf8b01ff0e069b9275f58929596ceb00d14d90e3e16cd6"
   }
  }
 },
 "nbformat": 4,
 "nbformat_minor": 2,
 "cells": [
  {
   "cell_type": "code",
   "execution_count": 1,
   "metadata": {},
   "outputs": [
    {
     "output_type": "stream",
     "name": "stdout",
     "text": [
      "Requirement already satisfied: pandas in /usr/local/lib/python3.9/site-packages (1.2.4)\n",
      "Requirement already satisfied: python-dateutil>=2.7.3 in /usr/local/lib/python3.9/site-packages (from pandas) (2.8.1)\n",
      "Requirement already satisfied: pytz>=2017.3 in /usr/local/lib/python3.9/site-packages (from pandas) (2021.1)\n",
      "Requirement already satisfied: numpy>=1.16.5 in /usr/local/lib/python3.9/site-packages (from pandas) (1.20.2)\n",
      "Requirement already satisfied: six>=1.5 in /usr/local/Cellar/protobuf/3.15.8/libexec/lib/python3.9/site-packages (from python-dateutil>=2.7.3->pandas) (1.15.0)\n",
      "hello\n"
     ]
    }
   ],
   "source": [
    "!pip install pandas\n",
    "# You should check the place that you pip install library , can use import sys \n",
    "import sys\n",
    "sys.path.insert(0, '/usr/local/lib/python3.9/site-packages')\n",
    "sys.path.insert(0, '/Users/chenyan/opt/anaconda3/lib/python3.8/site-packages')\n",
    "print(\"hello\")"
   ]
  },
  {
   "cell_type": "code",
   "execution_count": 3,
   "metadata": {},
   "outputs": [
    {
     "output_type": "stream",
     "name": "stdout",
     "text": [
      "import success \n"
     ]
    }
   ],
   "source": [
    "import pandas as pd\n",
    "import numpy as np \n",
    "print(\"import success \")"
   ]
  },
  {
   "cell_type": "code",
   "execution_count": 5,
   "metadata": {},
   "outputs": [],
   "source": [
    "from sklearn.cluster import KMeans\n",
    "from sklearn.ensemble import RandomForestClassifier\n",
    "from sklearn.model_selection import train_test_split\n",
    "from sklearn import metrics\n",
    "from sklearn.metrics import confusion_matrix\n",
    "from sklearn.tree import DecisionTreeClassifier\n",
    "from sklearn import tree\n",
    "from sklearn import svm\n",
    "from sklearn.neighbors import KNeighborsClassifier\n",
    "from sklearn.naive_bayes import GaussianNB\n",
    "from yellowbrick.cluster import KElbowVisualizer"
   ]
  },
  {
   "cell_type": "code",
   "execution_count": 27,
   "metadata": {},
   "outputs": [
    {
     "output_type": "error",
     "ename": "KeyError",
     "evalue": "'p_1n'",
     "traceback": [
      "\u001b[0;31m---------------------------------------------------------------------------\u001b[0m",
      "\u001b[0;31mKeyError\u001b[0m                                  Traceback (most recent call last)",
      "\u001b[0;32m~/opt/anaconda3/lib/python3.8/site-packages/pandas/core/indexes/base.py\u001b[0m in \u001b[0;36mget_loc\u001b[0;34m(self, key, method, tolerance)\u001b[0m\n\u001b[1;32m   3079\u001b[0m             \u001b[0;32mtry\u001b[0m\u001b[0;34m:\u001b[0m\u001b[0;34m\u001b[0m\u001b[0;34m\u001b[0m\u001b[0m\n\u001b[0;32m-> 3080\u001b[0;31m                 \u001b[0;32mreturn\u001b[0m \u001b[0mself\u001b[0m\u001b[0;34m.\u001b[0m\u001b[0m_engine\u001b[0m\u001b[0;34m.\u001b[0m\u001b[0mget_loc\u001b[0m\u001b[0;34m(\u001b[0m\u001b[0mcasted_key\u001b[0m\u001b[0;34m)\u001b[0m\u001b[0;34m\u001b[0m\u001b[0;34m\u001b[0m\u001b[0m\n\u001b[0m\u001b[1;32m   3081\u001b[0m             \u001b[0;32mexcept\u001b[0m \u001b[0mKeyError\u001b[0m \u001b[0;32mas\u001b[0m \u001b[0merr\u001b[0m\u001b[0;34m:\u001b[0m\u001b[0;34m\u001b[0m\u001b[0;34m\u001b[0m\u001b[0m\n",
      "\u001b[0;32mpandas/_libs/index.pyx\u001b[0m in \u001b[0;36mpandas._libs.index.IndexEngine.get_loc\u001b[0;34m()\u001b[0m\n",
      "\u001b[0;32mpandas/_libs/index.pyx\u001b[0m in \u001b[0;36mpandas._libs.index.IndexEngine.get_loc\u001b[0;34m()\u001b[0m\n",
      "\u001b[0;32mpandas/_libs/index_class_helper.pxi\u001b[0m in \u001b[0;36mpandas._libs.index.Int64Engine._check_type\u001b[0;34m()\u001b[0m\n",
      "\u001b[0;31mKeyError\u001b[0m: 'p_1n'",
      "\nThe above exception was the direct cause of the following exception:\n",
      "\u001b[0;31mKeyError\u001b[0m                                  Traceback (most recent call last)",
      "\u001b[0;32m<ipython-input-27-ea2cec4e3804>\u001b[0m in \u001b[0;36m<module>\u001b[0;34m\u001b[0m\n\u001b[1;32m      4\u001b[0m \u001b[0mnames\u001b[0m \u001b[0;34m=\u001b[0m \u001b[0;34m[\u001b[0m\u001b[0;34m\"i_0\"\u001b[0m\u001b[0;34m,\u001b[0m \u001b[0;34m\"i_1\"\u001b[0m\u001b[0;34m,\u001b[0m \u001b[0;34m\"i_2\"\u001b[0m\u001b[0;34m,\u001b[0m \u001b[0;34m\"i_3\"\u001b[0m\u001b[0;34m,\u001b[0m \u001b[0;34m\"i_4\"\u001b[0m\u001b[0;34m,\u001b[0m \u001b[0;34m\"i_5\"\u001b[0m\u001b[0;34m,\u001b[0m \u001b[0;34m\"w_1\"\u001b[0m\u001b[0;34m,\u001b[0m \u001b[0;34m\"w_2\"\u001b[0m\u001b[0;34m,\u001b[0m \u001b[0;34m\"w_3\"\u001b[0m\u001b[0;34m,\u001b[0m \u001b[0;34m\"w_4\"\u001b[0m\u001b[0;34m,\u001b[0m \u001b[0;34m\"w_5\"\u001b[0m\u001b[0;34m,\u001b[0m \u001b[0;34m\"o_1\"\u001b[0m\u001b[0;34m,\u001b[0m \u001b[0;34m\"o_2\"\u001b[0m\u001b[0;34m,\u001b[0m \u001b[0;34m\"o_3\"\u001b[0m\u001b[0;34m,\u001b[0m \u001b[0;34m\"o_4\"\u001b[0m\u001b[0;34m,\u001b[0m \u001b[0;34m\"o_5\"\u001b[0m\u001b[0;34m,\u001b[0m \u001b[0;34m\"p_1n\"\u001b[0m\u001b[0;34m,\u001b[0m \u001b[0;34m\"p_2n\"\u001b[0m\u001b[0;34m,\u001b[0m \u001b[0;34m\"p_3n\"\u001b[0m\u001b[0;34m,\u001b[0m \u001b[0;34m\"p_4n\"\u001b[0m\u001b[0;34m,\u001b[0m \u001b[0;34m\"p_5a\"\u001b[0m\u001b[0;34m,\u001b[0m \u001b[0;34m\"p_6a\"\u001b[0m\u001b[0;34m,\u001b[0m \u001b[0;34m\"p_7a\"\u001b[0m\u001b[0;34m,\u001b[0m \u001b[0;34m\"c_1\"\u001b[0m\u001b[0;34m,\u001b[0m \u001b[0;34m\"c_2\"\u001b[0m\u001b[0;34m,\u001b[0m \u001b[0;34m\"c_3\"\u001b[0m\u001b[0;34m,\u001b[0m \u001b[0;34m\"c_4\"\u001b[0m\u001b[0;34m,\u001b[0m \u001b[0;34m\"c_5\"\u001b[0m\u001b[0;34m,\u001b[0m \u001b[0;34m\"c_6\"\u001b[0m\u001b[0;34m]\u001b[0m\u001b[0;34m\u001b[0m\u001b[0;34m\u001b[0m\u001b[0m\n\u001b[1;32m      5\u001b[0m \u001b[0mmapping\u001b[0m \u001b[0;34m=\u001b[0m \u001b[0;34m{\u001b[0m\u001b[0;36m1\u001b[0m\u001b[0;34m:\u001b[0m\u001b[0;36m5\u001b[0m\u001b[0;34m,\u001b[0m \u001b[0;36m2\u001b[0m\u001b[0;34m:\u001b[0m\u001b[0;36m4\u001b[0m\u001b[0;34m,\u001b[0m \u001b[0;36m3\u001b[0m\u001b[0;34m:\u001b[0m\u001b[0;36m3\u001b[0m\u001b[0;34m,\u001b[0m \u001b[0;36m4\u001b[0m\u001b[0;34m:\u001b[0m\u001b[0;36m2\u001b[0m\u001b[0;34m,\u001b[0m \u001b[0;36m5\u001b[0m\u001b[0;34m:\u001b[0m\u001b[0;36m1\u001b[0m\u001b[0;34m}\u001b[0m\u001b[0;34m\u001b[0m\u001b[0;34m\u001b[0m\u001b[0m\n\u001b[0;32m----> 6\u001b[0;31m \u001b[0mdataframe\u001b[0m\u001b[0;34m[\u001b[0m\u001b[0;34m\"p_1n\"\u001b[0m\u001b[0;34m]\u001b[0m \u001b[0;34m=\u001b[0m \u001b[0mdataframe\u001b[0m\u001b[0;34m[\u001b[0m\u001b[0;34m\"p_1n\"\u001b[0m\u001b[0;34m]\u001b[0m\u001b[0;34m.\u001b[0m\u001b[0mmap\u001b[0m\u001b[0;34m(\u001b[0m\u001b[0mmapping\u001b[0m\u001b[0;34m)\u001b[0m\u001b[0;34m\u001b[0m\u001b[0;34m\u001b[0m\u001b[0m\n\u001b[0m\u001b[1;32m      7\u001b[0m \u001b[0mdataframe\u001b[0m\u001b[0;34m[\u001b[0m\u001b[0;34m\"p_2n\"\u001b[0m\u001b[0;34m]\u001b[0m \u001b[0;34m=\u001b[0m \u001b[0mdataframe\u001b[0m\u001b[0;34m[\u001b[0m\u001b[0;34m\"p_2n\"\u001b[0m\u001b[0;34m]\u001b[0m\u001b[0;34m.\u001b[0m\u001b[0mmap\u001b[0m\u001b[0;34m(\u001b[0m\u001b[0mmapping\u001b[0m\u001b[0;34m)\u001b[0m\u001b[0;34m\u001b[0m\u001b[0;34m\u001b[0m\u001b[0m\n\u001b[1;32m      8\u001b[0m \u001b[0mdataframe\u001b[0m\u001b[0;34m[\u001b[0m\u001b[0;34m\"p_3n\"\u001b[0m\u001b[0;34m]\u001b[0m \u001b[0;34m=\u001b[0m \u001b[0mdataframe\u001b[0m\u001b[0;34m[\u001b[0m\u001b[0;34m\"p_3n\"\u001b[0m\u001b[0;34m]\u001b[0m\u001b[0;34m.\u001b[0m\u001b[0mmap\u001b[0m\u001b[0;34m(\u001b[0m\u001b[0mmapping\u001b[0m\u001b[0;34m)\u001b[0m\u001b[0;34m\u001b[0m\u001b[0;34m\u001b[0m\u001b[0m\n",
      "\u001b[0;32m~/opt/anaconda3/lib/python3.8/site-packages/pandas/core/frame.py\u001b[0m in \u001b[0;36m__getitem__\u001b[0;34m(self, key)\u001b[0m\n\u001b[1;32m   3022\u001b[0m             \u001b[0;32mif\u001b[0m \u001b[0mself\u001b[0m\u001b[0;34m.\u001b[0m\u001b[0mcolumns\u001b[0m\u001b[0;34m.\u001b[0m\u001b[0mnlevels\u001b[0m \u001b[0;34m>\u001b[0m \u001b[0;36m1\u001b[0m\u001b[0;34m:\u001b[0m\u001b[0;34m\u001b[0m\u001b[0;34m\u001b[0m\u001b[0m\n\u001b[1;32m   3023\u001b[0m                 \u001b[0;32mreturn\u001b[0m \u001b[0mself\u001b[0m\u001b[0;34m.\u001b[0m\u001b[0m_getitem_multilevel\u001b[0m\u001b[0;34m(\u001b[0m\u001b[0mkey\u001b[0m\u001b[0;34m)\u001b[0m\u001b[0;34m\u001b[0m\u001b[0;34m\u001b[0m\u001b[0m\n\u001b[0;32m-> 3024\u001b[0;31m             \u001b[0mindexer\u001b[0m \u001b[0;34m=\u001b[0m \u001b[0mself\u001b[0m\u001b[0;34m.\u001b[0m\u001b[0mcolumns\u001b[0m\u001b[0;34m.\u001b[0m\u001b[0mget_loc\u001b[0m\u001b[0;34m(\u001b[0m\u001b[0mkey\u001b[0m\u001b[0;34m)\u001b[0m\u001b[0;34m\u001b[0m\u001b[0;34m\u001b[0m\u001b[0m\n\u001b[0m\u001b[1;32m   3025\u001b[0m             \u001b[0;32mif\u001b[0m \u001b[0mis_integer\u001b[0m\u001b[0;34m(\u001b[0m\u001b[0mindexer\u001b[0m\u001b[0;34m)\u001b[0m\u001b[0;34m:\u001b[0m\u001b[0;34m\u001b[0m\u001b[0;34m\u001b[0m\u001b[0m\n\u001b[1;32m   3026\u001b[0m                 \u001b[0mindexer\u001b[0m \u001b[0;34m=\u001b[0m \u001b[0;34m[\u001b[0m\u001b[0mindexer\u001b[0m\u001b[0;34m]\u001b[0m\u001b[0;34m\u001b[0m\u001b[0;34m\u001b[0m\u001b[0m\n",
      "\u001b[0;32m~/opt/anaconda3/lib/python3.8/site-packages/pandas/core/indexes/base.py\u001b[0m in \u001b[0;36mget_loc\u001b[0;34m(self, key, method, tolerance)\u001b[0m\n\u001b[1;32m   3080\u001b[0m                 \u001b[0;32mreturn\u001b[0m \u001b[0mself\u001b[0m\u001b[0;34m.\u001b[0m\u001b[0m_engine\u001b[0m\u001b[0;34m.\u001b[0m\u001b[0mget_loc\u001b[0m\u001b[0;34m(\u001b[0m\u001b[0mcasted_key\u001b[0m\u001b[0;34m)\u001b[0m\u001b[0;34m\u001b[0m\u001b[0;34m\u001b[0m\u001b[0m\n\u001b[1;32m   3081\u001b[0m             \u001b[0;32mexcept\u001b[0m \u001b[0mKeyError\u001b[0m \u001b[0;32mas\u001b[0m \u001b[0merr\u001b[0m\u001b[0;34m:\u001b[0m\u001b[0;34m\u001b[0m\u001b[0;34m\u001b[0m\u001b[0m\n\u001b[0;32m-> 3082\u001b[0;31m                 \u001b[0;32mraise\u001b[0m \u001b[0mKeyError\u001b[0m\u001b[0;34m(\u001b[0m\u001b[0mkey\u001b[0m\u001b[0;34m)\u001b[0m \u001b[0;32mfrom\u001b[0m \u001b[0merr\u001b[0m\u001b[0;34m\u001b[0m\u001b[0;34m\u001b[0m\u001b[0m\n\u001b[0m\u001b[1;32m   3083\u001b[0m \u001b[0;34m\u001b[0m\u001b[0m\n\u001b[1;32m   3084\u001b[0m         \u001b[0;32mif\u001b[0m \u001b[0mtolerance\u001b[0m \u001b[0;32mis\u001b[0m \u001b[0;32mnot\u001b[0m \u001b[0;32mNone\u001b[0m\u001b[0;34m:\u001b[0m\u001b[0;34m\u001b[0m\u001b[0;34m\u001b[0m\u001b[0m\n",
      "\u001b[0;31mKeyError\u001b[0m: 'p_1n'"
     ]
    }
   ],
   "source": [
    "#TODO 1. Import, Clean Data & Data Manipulation (Works)\n",
    "survey1 = pd.read_excel('/Users/chenyan/Documents/GitHub/Capstone_Project28/Actual/Employee Engagement Survey(1-33).xlsx', header = None )\n",
    "dataframe = survey1.iloc[1:,6:35]\n",
    "names = [\"i_0\", \"i_1\", \"i_2\", \"i_3\", \"i_4\", \"i_5\", \"w_1\", \"w_2\", \"w_3\", \"w_4\", \"w_5\", \"o_1\", \"o_2\", \"o_3\", \"o_4\", \"o_5\", \"p_1n\", \"p_2n\", \"p_3n\", \"p_4n\", \"p_5a\", \"p_6a\", \"p_7a\", \"c_1\", \"c_2\", \"c_3\", \"c_4\", \"c_5\", \"c_6\"]\n",
    "\n",
    "encode = { \"i_1\": {\"20-29\": 1, \"30-39\": 2, \"40-49\": 3, \"50-59\": 4, \"60 and above\": 5 },\n",
    "            \"i_2\": {\"Below 2 years\": 1, \"Below 3 years\": 1, \"3-5 years\": 2, \"6-10 years\": 3, \"11-19 years\": 4, \"20 years and above\": 5},\n",
    "            \"i_3\": {\"Below 2 years\": 1, \"Below 3 years\": 1, \"3-5 years\": 2, \"6-10 years\": 3, \"11-19 years\": 4, \"20 years and above\": 5},\n",
    "}\n",
    "\n",
    "dataframe = dataframe.replace(encode)\n",
    "mapping = {1:5, 2:4, 3:3, 4:2, 5:1}\n",
    "dataframe[\"p_1n\"] = dataframe[\"p_1n\"].map(mapping)\n",
    "dataframe[\"p_2n\"] = dataframe[\"p_2n\"].map(mapping)\n",
    "dataframe[\"p_3n\"] = dataframe[\"p_3n\"].map(mapping)\n",
    "dataframe[\"p_4n\"] = dataframe[\"p_4n\"].map(mapping)\n",
    "dataframe.columns = names \n",
    "\n",
    "dataframe = dataframe.drop(['i_0','i_4','i_5'], axis= 1)\n",
    "cols = [\"i_1\", \"i_2\", \"i_3\", \"w_1\", \"w_2\", \"w_3\", \"w_4\", \"w_5\", \"o_1\", \"o_2\", \"o_3\", \"o_4\", \"o_5\", \"p_1n\", \"p_2n\", \"p_3n\", \"p_4n\", \"p_5a\", \"p_6a\", \"p_7a\", \"c_1\", \"c_2\", \"c_3\", \"c_4\", \"c_5\", \"c_6\"]\n",
    "dataframe[cols] = df[cols].apply(pd.to_numeric, errors='coerce', axis=1)\n",
    "\n",
    "# 35 : question numbers ; 1: all staff\n",
    "# print(survey1.head())\n",
    "# print(dataframe.head())"
   ]
  },
  {
   "cell_type": "code",
   "execution_count": null,
   "metadata": {},
   "outputs": [],
   "source": []
  }
 ]
}